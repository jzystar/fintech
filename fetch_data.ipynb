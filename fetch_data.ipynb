{
 "cells": [
  {
   "cell_type": "code",
   "execution_count": 87,
   "metadata": {},
   "outputs": [
    {
     "name": "stdout",
     "output_type": "stream",
     "text": [
      "原始数据形状 (行数, 列数): (244, 15)\n",
      "\n",
      "列名: ['日期', '大盘量比', '涨幅', '涨跌停比', '真实涨跌停比', '赚钱效应', '市场情绪', '跌幅榜', '炸板率', '连板数', 'Unnamed: 10', 'Unnamed: 11', '昨板今均', '今日概况', '备注']\n",
      "原始数据形状 (行数, 列数): (250, 15)\n",
      "\n",
      "列名: ['日期', '大盘量比', '涨幅', '涨跌停比', '真实涨跌停比', '赚钱效应', '市场情绪', '跌幅榜40', '炸板率', '连板数', '昨板今均', '周期阶段', '主流题材', '今日概况', '备注']\n",
      "原始数据形状 (行数, 列数): (249, 16)\n",
      "\n",
      "列名: ['日期', '大盘量比', '涨幅', '涨跌停比', '真实涨跌停比', '赚钱效应', '市场情绪', '跌幅榜40(9月6日后为60）', '炸板率', '连板数', '昨板今均', '周期阶段', '主流题材', '今日概况', '备注', 'Unnamed: 15']\n",
      "原始数据形状 (行数, 列数): (257, 17)\n",
      "\n",
      "列名: ['日期', '大盘量比', '涨幅', '涨跌停比', '真实涨跌停比', '赚钱效应', '市场情绪', '跌幅榜60', '炸板率', '连板数', '昨板今均', '近3日人气股最大跌幅/跌幅超20%数量', '今日异常现象，好和不好', '周期阶段', '主流题材', '今日概况', '备注']\n",
      "原始数据形状 (行数, 列数): (224, 17)\n",
      "\n",
      "列名: ['日期', '大盘量比', '涨幅', '涨跌停比', '真实涨跌停比', '赚钱效应', '市场情绪', '跌幅榜60', '炸板率', '连板数', '昨板今均', '近3日人气股最大跌幅/跌幅超20%数量', '今日异常现象，好和不好', '周期阶段', '主流题材', '今日概况', '备注']\n",
      "原始数据形状 (行数, 列数): (253, 17)\n",
      "\n",
      "列名: ['日期', '大盘量比', '涨幅', '涨跌停比', '真实涨跌停比', '赚钱效应', '市场情绪', '跌幅榜60', '炸板率', '连板数', '昨板今均', '近3日人气股最大跌幅/跌幅超20%数量', '今日异常现象，好和不好', '周期阶段', '主流题材', '今日概况', '备注']\n",
      "counter: 1423\n",
      "year start ids： {'2019': 0, '2020': 244, '2021': 487, '2022': 730, '2023': 972, '2024': 1185}\n"
     ]
    }
   ],
   "source": [
    "import pandas as pd\n",
    "import re\n",
    "\n",
    "file_paths = [r\".\\data\\复盘记录2019.xlsx\",\n",
    "             r\".\\data\\复盘记录2020.xlsx\",\n",
    "             r\".\\data\\复盘记录2021.xlsx\",\n",
    "             r\".\\data\\复盘记录2022.xlsx\",\n",
    "             r\".\\data\\复盘记录2023.xlsx\",\n",
    "             r\".\\data\\复盘记录2024.xlsx\"]\n",
    "             \n",
    "\n",
    "# selected_cols = (\"日期\", \"大盘量比\", \"涨幅\", \"涨跌停比\", '赚钱效应', '市场情绪', '炸板率', '连板数', '昨板今均', '今日概况')\n",
    "selected_cols = (\"大盘量比\", \"涨幅\", \"涨跌停比\", '赚钱效应', '市场情绪', '炸板率', '连板数', '昨板今均')\n",
    "percent_cols = ['赚钱效应',  '炸板率']\n",
    "\n",
    "result_rows = []\n",
    "\n",
    "start_id_of_year = {}\n",
    "\n",
    "for path in file_paths:\n",
    "    year = path[11:15]\n",
    "    start_id_of_year[year] = len(result_rows)\n",
    "    df = pd.read_excel(path)\n",
    "    print(\"原始数据形状 (行数, 列数):\", df.shape)\n",
    "    print(\"\\n列名:\", list(df.columns))\n",
    "\n",
    "    # 获取列名（表头）\n",
    "    headers = df.columns.tolist()\n",
    "    for idx, row in df.iterrows():\n",
    "        row_data = []\n",
    "        # # 处理NaN值\n",
    "        if pd.isna(row[\"日期\"]):\n",
    "            continue\n",
    "        # 遍历每一列\n",
    "        for header in selected_cols:\n",
    "            # 添加表头前缀到元素值\n",
    "            value = row[header]\n",
    "            # print(idx, header, value)\n",
    "            if header == \"日期\":\n",
    "                value = value.strftime('%Y-%m-%d')\n",
    "            if header in percent_cols and '%' not in str(value):\n",
    "                value = f\"{float(value) * 100:.2f}%\"\n",
    "            if header == \"涨幅\":\n",
    "                header = \"大盘涨幅\"\n",
    "            if header == \"昨板今均\":\n",
    "                header = \"昨日涨停表现\"\n",
    "            \n",
    "            if header == \"涨跌停比\":\n",
    "                tmp  = re.split(':|：', value)\n",
    "                formatted_value = f\"涨停数量{tmp[0]}， 跌停数量{tmp[1]}\"\n",
    "                # print(formatted_value)\n",
    "            else:\n",
    "                formatted_value = f\"{header}{value}\"\n",
    "            row_data.append(formatted_value)\n",
    "\n",
    "        # 将处理后的行添加到结果列表\n",
    "        # result_rows.append(\"， \".join(row_data))\n",
    "        result_rows.append(row_data)\n",
    "\n",
    "print(f\"counter: {len(result_rows)}\")\n",
    "print(f\"year start ids： {start_id_of_year}\")"
   ]
  },
  {
   "cell_type": "code",
   "execution_count": 88,
   "metadata": {},
   "outputs": [
    {
     "name": "stdout",
     "output_type": "stream",
     "text": [
      "2020:\n",
      "['大盘量比1.07', '大盘涨幅0.33', '涨停数量50， 跌停数量3', '赚钱效应63.50%', '市场情绪极好', '炸板率26.30%', '连板数15', '昨日涨停表现3.13']\n",
      "['大盘量比1.37', '大盘涨幅1.15', '涨停数量84， 跌停数量1', '赚钱效应92.30%', '市场情绪极好（偏爆炸好）', '炸板率23.40%', '连板数20.0', '昨日涨停表现4.45']\n",
      "['大盘量比1.1', '大盘涨幅-0.05', '涨停数量60， 跌停数量2', '赚钱效应58.20%', '市场情绪极好', '炸板率28.20%', '连板数19.0', '昨日涨停表现2.0']\n",
      "2024:\n",
      "['大盘量比1.08', '大盘涨幅0.68', '涨停数量65（6）+9， 跌停数量1', '赚钱效应83.30%', '市场情绪爆炸好', '炸板率10.60%', '连板数24（2）', '昨日涨停表现4.85']\n",
      "['大盘量比1.14', '大盘涨幅-0.43', '涨停数量56(6)+5， 跌停数量3(2)', '赚钱效应53.50%', '市场情绪好（偏极好）', '炸板率28.80%', '连板数16(1)', '昨日涨停表现2.23']\n",
      "['大盘量比1.01', '大盘涨幅0.17', '涨停数量37（1）+2， 跌停数量8+8', '赚钱效应38.10%', '市场情绪一般', '炸板率35.80%', '连板数17（2）', '昨日涨停表现1.0']\n"
     ]
    }
   ],
   "source": [
    "print(\"2020:\")\n",
    "print(result_rows[243])\n",
    "print(result_rows[244])\n",
    "print(result_rows[245])\n",
    "\n",
    "print(\"2024:\")\n",
    "print(result_rows[1184])\n",
    "print(result_rows[1185])\n",
    "print(result_rows[1186])"
   ]
  },
  {
   "cell_type": "code",
   "execution_count": 89,
   "metadata": {},
   "outputs": [],
   "source": [
    "import json\n",
    "def find_col_id(data, target):\n",
    "    for i, s in enumerate(data):\n",
    "        if s.find(target) != -1:\n",
    "            return i\n",
    "    return -1\n",
    "\n",
    "def produce_train_data(dataset, date_span, predict_col=\"市场情绪\"):\n",
    "\n",
    "    json_data = []\n",
    "    input = \"\"\n",
    "    note = \"\"\n",
    "    if predict_col==\"市场情绪\":\n",
    "        note = \"市场情绪分类范围是：股灾、极差、差，一般，好，极好，爆炸好\"\n",
    "    for i in range(len(dataset)):\n",
    "        date_id = (i + 1) % (date_span + 1)\n",
    "        if date_id:\n",
    "            cur_data = f'第{date_id}天大盘数据是:' + '， '.join(dataset[i]) + '。\\n'\n",
    "            input += cur_data\n",
    "        else:\n",
    "            predict_col_id = find_col_id(dataset[i], predict_col)\n",
    "            assert predict_col_id != -1\n",
    "            output = dataset[i][predict_col_id][4:]\n",
    "            json_entry = {\n",
    "                \"instruction\": f\"请你根据近{date_span}天的数据，来预测下一天的{predict_col}。\" + note + \"\\n\",\n",
    "                \"input\": input,\n",
    "                \"output\": output\n",
    "            }\n",
    "            input = \"\"\n",
    "            json_data.append(json_entry)\n",
    "\n",
    "    print(f\"\\n共 {len(json_data)} 条记录\")\n",
    "    return json_data\n",
    "    "
   ]
  },
  {
   "cell_type": "code",
   "execution_count": 90,
   "metadata": {},
   "outputs": [
    {
     "name": "stdout",
     "output_type": "stream",
     "text": [
      "\n",
      "共 355 条记录\n",
      "start id is  972\n",
      "\n",
      "数据已保存为 emotion_data_3.json，共 355 条记录\n",
      "\n",
      "共 112 条记录\n",
      "\n",
      "数据已保存为 emotion_data_enchanced_3.json，共 467 条记录\n"
     ]
    }
   ],
   "source": [
    "output_file1 = 'emotion_data_3.json'\n",
    "output_file2 = 'emotion_data_enchanced_3.json'\n",
    "\n",
    "json_data1 = produce_train_data(result_rows, 3)\n",
    "with open(output_file1, 'w', encoding='utf-8') as f:\n",
    "    json.dump(json_data1, f, ensure_ascii=False, indent=4)\n",
    "\n",
    "start = start_id_of_year['2023']\n",
    "print(\"start id is \", start)\n",
    "print(f\"\\n数据已保存为 {output_file1}，共 {len(json_data1)} 条记录\")\n",
    "# 保存为JSON文件\n",
    "json_data2 = produce_train_data(result_rows[start + 2:], 3)\n",
    "combined1 = json_data1 + json_data2\n",
    "with open(output_file2, 'w', encoding='utf-8') as f:\n",
    "    json.dump(combined1, f, ensure_ascii=False, indent=4)\n",
    "print(f\"\\n数据已保存为 {output_file2}，共 {len(combined1)} 条记录\")\n"
   ]
  },
  {
   "cell_type": "code",
   "execution_count": 91,
   "metadata": {},
   "outputs": [
    {
     "name": "stdout",
     "output_type": "stream",
     "text": [
      "\n",
      "共 237 条记录\n",
      "\n",
      "数据已保存为 emotion_data_5.json，共 237 条记录\n",
      "\n",
      "共 74 条记录\n",
      "\n",
      "数据已保存为 emotion_data_enchanced_5.json，共 311 条记录\n"
     ]
    }
   ],
   "source": [
    "\n",
    "output_file3 = 'emotion_data_5.json'\n",
    "output_file4 = 'emotion_data_enchanced_5.json'\n",
    "\n",
    "json_data3 = produce_train_data(result_rows, 5)\n",
    "with open(output_file3, 'w', encoding='utf-8') as f:\n",
    "    json.dump(json_data3, f, ensure_ascii=False, indent=4)\n",
    "\n",
    "print(f\"\\n数据已保存为 {output_file3}，共 {len(json_data3)} 条记录\")\n",
    "# 保存为JSON文件\n",
    "json_data4 = produce_train_data(result_rows[start + 2:], 5)\n",
    "combined2 = json_data3 + json_data4\n",
    "with open(output_file4, 'w', encoding='utf-8') as f:\n",
    "    json.dump(combined2, f, ensure_ascii=False, indent=4)\n",
    "print(f\"\\n数据已保存为 {output_file4}，共 {len(combined2)} 条记录\")\n",
    "\n"
   ]
  }
 ],
 "metadata": {
  "kernelspec": {
   "display_name": "llama_factory",
   "language": "python",
   "name": "python3"
  },
  "language_info": {
   "codemirror_mode": {
    "name": "ipython",
    "version": 3
   },
   "file_extension": ".py",
   "mimetype": "text/x-python",
   "name": "python",
   "nbconvert_exporter": "python",
   "pygments_lexer": "ipython3",
   "version": "3.12.7"
  }
 },
 "nbformat": 4,
 "nbformat_minor": 2
}
